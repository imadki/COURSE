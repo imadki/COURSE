{
 "cells": [
  {
   "cell_type": "markdown",
   "metadata": {},
   "source": [
    "- Like - The like which the user did.\n",
    "- LikesReceived - Likes received by the user\n",
    "- Mobile-Likes - Likes which user did on mobile\n",
    "- Mobile-LikesReceived - Likes which user receive on mobile.\n",
    "- D.o.b Date of Birthday\n",
    "- Tenure - The number of days they have used facebook"
   ]
  },
  {
   "cell_type": "code",
   "execution_count": 7,
   "metadata": {},
   "outputs": [],
   "source": [
    "import pandas as pd\n",
    "\n",
    "filename = 'data.csv'\n",
    "data = pd.read_csv(filename)"
   ]
  },
  {
   "cell_type": "markdown",
   "metadata": {},
   "source": [
    "1- Write a Pandas program to detect missing values."
   ]
  },
  {
   "cell_type": "code",
   "execution_count": null,
   "metadata": {},
   "outputs": [],
   "source": [
    "# Tape your code here and comment the result"
   ]
  },
  {
   "cell_type": "markdown",
   "metadata": {},
   "source": [
    "2- Write a Pandas program to avoid the missing values. (Justify your choice)"
   ]
  },
  {
   "cell_type": "code",
   "execution_count": null,
   "metadata": {},
   "outputs": [],
   "source": [
    "# Tape your code here and comment the result"
   ]
  },
  {
   "cell_type": "markdown",
   "metadata": {},
   "source": [
    "3- Give statistical description of the data."
   ]
  },
  {
   "cell_type": "code",
   "execution_count": 3,
   "metadata": {},
   "outputs": [],
   "source": [
    "# Tape your code here and comment the result"
   ]
  },
  {
   "cell_type": "markdown",
   "metadata": {},
   "source": [
    "4- Write a Pandas program to sort the users by their gender."
   ]
  },
  {
   "cell_type": "code",
   "execution_count": 4,
   "metadata": {},
   "outputs": [],
   "source": [
    "# Tape your code here and comment the result"
   ]
  },
  {
   "cell_type": "markdown",
   "metadata": {},
   "source": [
    "5- Plot the histograms and density of 2-3 variables."
   ]
  },
  {
   "cell_type": "code",
   "execution_count": 5,
   "metadata": {},
   "outputs": [],
   "source": [
    "# Tape your code here and comment the result"
   ]
  },
  {
   "cell_type": "markdown",
   "metadata": {},
   "source": [
    "6- How to deal with outliers ? (Give an example of a chosen variable)"
   ]
  },
  {
   "cell_type": "code",
   "execution_count": null,
   "metadata": {},
   "outputs": [],
   "source": [
    "# Tape your code here and comment the result"
   ]
  },
  {
   "cell_type": "markdown",
   "metadata": {},
   "source": [
    "7.1 - How we can detect relationships between variables ?\n",
    "\n",
    "7.2 - What can you say about the relationship between age and tenure."
   ]
  },
  {
   "cell_type": "code",
   "execution_count": null,
   "metadata": {},
   "outputs": [],
   "source": [
    "# Tape your code here and comment the result"
   ]
  },
  {
   "cell_type": "markdown",
   "metadata": {},
   "source": [
    "8- Explain the code below, and give a reason to use these techniques."
   ]
  },
  {
   "cell_type": "markdown",
   "metadata": {},
   "source": [
    "```python\n",
    " array = data_extracted.values\n",
    "\n",
    "# separate array into input and output components\n",
    "X = array[:,:]\n",
    "Y = array[:,:]\n",
    "\n",
    "from numpy import set_printoptions \n",
    "from sklearn.preprocessing import MinMaxScaler\n",
    "\n",
    "scaler = MinMaxScaler(feature_range=(0, 1)) ①\n",
    "rescaledX = scaler.fit_transform(X)\n",
    "\n",
    "scaler = StandardScaler().fit(X)  ②\n",
    "rescaledX = scaler.transform(X)\n",
    "\n",
    "scaler = Normalizer().fit(X)   ③\n",
    "normalizedX = scaler.transform(X) \n",
    "\n",
    "binarizer = Binarizer(threshold=0.0).fit(X)   ④\n",
    "binaryX = binarizer.transform(X)\n",
    "\n",
    "```"
   ]
  },
  {
   "cell_type": "code",
   "execution_count": null,
   "metadata": {},
   "outputs": [],
   "source": [
    "# css style\n",
    "from IPython.core.display import HTML\n",
    "def css_styling():\n",
    "    styles = open(\"custom.css\", \"r\").read()\n",
    "    return HTML(styles)\n",
    "css_styling()"
   ]
  }
 ],
 "metadata": {
  "kernelspec": {
   "display_name": "Python 3",
   "language": "python",
   "name": "python3"
  },
  "language_info": {
   "codemirror_mode": {
    "name": "ipython",
    "version": 3
   },
   "file_extension": ".py",
   "mimetype": "text/x-python",
   "name": "python",
   "nbconvert_exporter": "python",
   "pygments_lexer": "ipython3",
   "version": "3.7.4"
  }
 },
 "nbformat": 4,
 "nbformat_minor": 2
}
